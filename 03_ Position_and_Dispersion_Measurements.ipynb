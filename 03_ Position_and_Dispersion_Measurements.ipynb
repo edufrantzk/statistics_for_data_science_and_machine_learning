{
 "cells": [
  {
   "cell_type": "markdown",
   "id": "80a59455",
   "metadata": {},
   "source": [
    "# Position and dispersion measurements\n",
    "- Descriptive statistics: describes and summarizes a set of data.\n",
    "\n",
    "- Position measures: Mean, median and mode, Arithmetic mean, geometric mean, harmonic mean and quadratic mean.\n",
    "- Quartiles and percentiles.\n",
    "\n",
    "- Dispersion Measures:Variance, standard deviation and coefficient of variation."
   ]
  },
  {
   "cell_type": "markdown",
   "id": "c191f74d",
   "metadata": {},
   "source": [
    "## Position Measures"
   ]
  },
  {
   "cell_type": "markdown",
   "id": "59b67d39",
   "metadata": {},
   "source": [
    "## Arithmetic mean, mode and median"
   ]
  },
  {
   "cell_type": "code",
   "execution_count": 3,
   "id": "1afe79c5",
   "metadata": {},
   "outputs": [],
   "source": [
    "#Imports\n",
    "import pandas as pd\n",
    "import numpy as np\n",
    "import statistics\n",
    "from scipy import stats\n",
    "import math\n",
    "\n",
    "import warnings\n",
    "warnings.filterwarnings(\"ignore\")"
   ]
  },
  {
   "cell_type": "code",
   "execution_count": 2,
   "id": "db4b51d6",
   "metadata": {},
   "outputs": [],
   "source": [
    "data = np.array([160, 165, 167, 164, 160, 166, 160, 161, 150, 152, 173, 160, 155,\n",
    "                  164, 168, 162, 161, 168, 163, 156, 155, 169, 151, 170, 164,\n",
    "                  155, 152, 163, 160, 155, 157, 156, 158, 158, 161, 154, 161, 156, 172, 153])"
   ]
  },
  {
   "attachments": {
    "geo.png": {
     "image/png": "[encoded data removed]"
    }
   },
   "cell_type": "markdown",
   "id": "c52591f6",
   "metadata": {},
   "source": [
    "Arithmetic mean\n",
    "![geo.png](attachment:geo.png)"
   ]
  },
  {
   "cell_type": "code",
   "execution_count": 3,
   "id": "ac0160e0",
   "metadata": {},
   "outputs": [
    {
     "data": {
      "text/plain": [
       "160.375"
      ]
     },
     "execution_count": 3,
     "metadata": {},
     "output_type": "execute_result"
    }
   ],
   "source": [
    "#Arithmetic mean with numpy\n",
    "\n",
    "data.mean()"
   ]
  },
  {
   "cell_type": "code",
   "execution_count": 4,
   "id": "0959c9ad",
   "metadata": {},
   "outputs": [
    {
     "data": {
      "text/plain": [
       "160"
      ]
     },
     "execution_count": 4,
     "metadata": {},
     "output_type": "execute_result"
    }
   ],
   "source": [
    "#With statistics\n",
    "\n",
    "statistics.mean(data)"
   ]
  },
  {
   "cell_type": "markdown",
   "id": "d82ee41a",
   "metadata": {},
   "source": [
    "Mode"
   ]
  },
  {
   "cell_type": "code",
   "execution_count": 5,
   "id": "653d9aa2",
   "metadata": {},
   "outputs": [
    {
     "data": {
      "text/plain": [
       "160"
      ]
     },
     "execution_count": 5,
     "metadata": {},
     "output_type": "execute_result"
    }
   ],
   "source": [
    "#With statistics\n",
    "\n",
    "statistics.mode(data)"
   ]
  },
  {
   "cell_type": "code",
   "execution_count": 6,
   "id": "a6130c5c",
   "metadata": {},
   "outputs": [
    {
     "data": {
      "text/plain": [
       "ModeResult(mode=array([160]), count=array([5]))"
      ]
     },
     "execution_count": 6,
     "metadata": {},
     "output_type": "execute_result"
    }
   ],
   "source": [
    "#With stats\n",
    "\n",
    "stats.mode(data)"
   ]
  },
  {
   "cell_type": "markdown",
   "id": "918d641f",
   "metadata": {},
   "source": [
    "Median"
   ]
  },
  {
   "cell_type": "code",
   "execution_count": 7,
   "id": "512daa6e",
   "metadata": {},
   "outputs": [
    {
     "data": {
      "text/plain": [
       "160.0"
      ]
     },
     "execution_count": 7,
     "metadata": {},
     "output_type": "execute_result"
    }
   ],
   "source": [
    "np.median(data)"
   ]
  },
  {
   "cell_type": "code",
   "execution_count": 8,
   "id": "67d9c59b",
   "metadata": {},
   "outputs": [
    {
     "data": {
      "text/plain": [
       "160.0"
      ]
     },
     "execution_count": 8,
     "metadata": {},
     "output_type": "execute_result"
    }
   ],
   "source": [
    "statistics.median(data)"
   ]
  },
  {
   "attachments": {
    "weighted%20mean.png": {
     "image/png": "[encoded data removed]"
    }
   },
   "cell_type": "markdown",
   "id": "1ed1f628",
   "metadata": {},
   "source": [
    "## Weighted mean\n",
    "![weighted%20mean.png](attachment:weighted%20mean.png)"
   ]
  },
  {
   "cell_type": "code",
   "execution_count": 11,
   "id": "3f00b867",
   "metadata": {},
   "outputs": [],
   "source": [
    "grades = np.array([9, 8 , 7, 3])\n",
    "weights = np.array([1, 2, 3, 4])"
   ]
  },
  {
   "cell_type": "code",
   "execution_count": 14,
   "id": "0b68b696",
   "metadata": {},
   "outputs": [
    {
     "data": {
      "text/plain": [
       "5.8"
      ]
     },
     "execution_count": 14,
     "metadata": {},
     "output_type": "execute_result"
    }
   ],
   "source": [
    "#way one\n",
    "w_mean = (grades * weights).sum() / weights.sum()\n",
    "w_mean"
   ]
  },
  {
   "cell_type": "code",
   "execution_count": 15,
   "id": "d971f258",
   "metadata": {},
   "outputs": [
    {
     "data": {
      "text/plain": [
       "5.8"
      ]
     },
     "execution_count": 15,
     "metadata": {},
     "output_type": "execute_result"
    }
   ],
   "source": [
    "#way two\n",
    "np.average(grades, weights = weights)"
   ]
  },
  {
   "cell_type": "markdown",
   "id": "51b84050",
   "metadata": {},
   "source": [
    "## Geometric, harmonic and quadratic mean"
   ]
  },
  {
   "attachments": {
    "geometric.webp": {
     "image/webp": "[encoded data removed]"
    }
   },
   "cell_type": "markdown",
   "id": "a92a1294",
   "metadata": {},
   "source": [
    "Geometric mean\n",
    "![geometric.webp](attachment:geometric.webp)"
   ]
  },
  {
   "cell_type": "code",
   "execution_count": 16,
   "id": "204d8d87",
   "metadata": {},
   "outputs": [],
   "source": [
    "from scipy.stats.mstats import gmean"
   ]
  },
  {
   "cell_type": "code",
   "execution_count": 17,
   "id": "8ce1ab3e",
   "metadata": {},
   "outputs": [
    {
     "data": {
      "text/plain": [
       "160.26958390038902"
      ]
     },
     "execution_count": 17,
     "metadata": {},
     "output_type": "execute_result"
    }
   ],
   "source": [
    "gmean(data)"
   ]
  },
  {
   "attachments": {
    "harmonic.png": {
     "image/png": "[encoded data removed]"
    }
   },
   "cell_type": "markdown",
   "id": "8a0c4f45",
   "metadata": {},
   "source": [
    "Harmonic\n",
    "![harmonic.png](attachment:harmonic.png)"
   ]
  },
  {
   "cell_type": "code",
   "execution_count": 18,
   "id": "6811a83a",
   "metadata": {},
   "outputs": [],
   "source": [
    "from scipy.stats.mstats import hmean"
   ]
  },
  {
   "cell_type": "code",
   "execution_count": 19,
   "id": "ca596611",
   "metadata": {},
   "outputs": [
    {
     "data": {
      "text/plain": [
       "160.16471947994674"
      ]
     },
     "execution_count": 19,
     "metadata": {},
     "output_type": "execute_result"
    }
   ],
   "source": [
    "hmean(data)"
   ]
  },
  {
   "attachments": {
    "quadratic.png": {
     "image/png": "[encoded data removed]"
    }
   },
   "cell_type": "markdown",
   "id": "2bed39d7",
   "metadata": {},
   "source": [
    "Quadratic mean\n",
    "- Used to evaluete machine learning performance\n",
    "![quadratic.png](attachment:quadratic.png)"
   ]
  },
  {
   "cell_type": "code",
   "execution_count": 20,
   "id": "e78db461",
   "metadata": {},
   "outputs": [],
   "source": [
    "def quadratic_mean(data):\n",
    "    return math.sqrt(sum(n * n for n in data) / len(data))"
   ]
  },
  {
   "cell_type": "code",
   "execution_count": 21,
   "id": "c9693d9a",
   "metadata": {},
   "outputs": [
    {
     "data": {
      "text/plain": [
       "160.48091786876097"
      ]
     },
     "execution_count": 21,
     "metadata": {},
     "output_type": "execute_result"
    }
   ],
   "source": [
    "quadratic_mean(data)"
   ]
  },
  {
   "attachments": {
    "quartilesss.png": {
     "image/png": "[encoded data removed]"
    }
   },
   "cell_type": "markdown",
   "id": "3d049b10",
   "metadata": {},
   "source": [
    "## Quartiles\n",
    "![quartilesss.png](attachment:quartilesss.png)"
   ]
  },
  {
   "cell_type": "code",
   "execution_count": 23,
   "id": "d2a8ae86",
   "metadata": {},
   "outputs": [],
   "source": [
    "data2 = [150, 151, 152, 152, 153, 154, 155, 155, 155]"
   ]
  },
  {
   "cell_type": "markdown",
   "id": "5e6f1f9d",
   "metadata": {},
   "source": [
    "Numpy"
   ]
  },
  {
   "cell_type": "code",
   "execution_count": 26,
   "id": "3917b3ff",
   "metadata": {},
   "outputs": [
    {
     "name": "stdout",
     "output_type": "stream",
     "text": [
      "Q1: 152.0, Q2: 153.0, Q3: 155.0\n"
     ]
    }
   ],
   "source": [
    "q1 = np.quantile(data2, 0.25)\n",
    "q2 = np.quantile(data2, 0.5)\n",
    "q3 = np.quantile(data2, 0.75)\n",
    "print(f'Q1: {q1}, Q2: {q2}, Q3: {q3}')"
   ]
  },
  {
   "cell_type": "code",
   "execution_count": 27,
   "id": "dc6bee6f",
   "metadata": {},
   "outputs": [
    {
     "data": {
      "text/plain": [
       "153.0"
      ]
     },
     "execution_count": 27,
     "metadata": {},
     "output_type": "execute_result"
    }
   ],
   "source": [
    "np.median(data2)"
   ]
  },
  {
   "cell_type": "markdown",
   "id": "de7c1bed",
   "metadata": {},
   "source": [
    "Scipy"
   ]
  },
  {
   "cell_type": "code",
   "execution_count": 28,
   "id": "c3315006",
   "metadata": {},
   "outputs": [
    {
     "data": {
      "text/plain": [
       "(152.0, 153.0, 155.0)"
      ]
     },
     "execution_count": 28,
     "metadata": {},
     "output_type": "execute_result"
    }
   ],
   "source": [
    "stats.scoreatpercentile(data2, 25), stats.scoreatpercentile(data2, 50), stats.scoreatpercentile(data2, 75)"
   ]
  },
  {
   "cell_type": "markdown",
   "id": "35851e13",
   "metadata": {},
   "source": [
    "Pandas"
   ]
  },
  {
   "cell_type": "code",
   "execution_count": 29,
   "id": "f8ef5131",
   "metadata": {},
   "outputs": [],
   "source": [
    "dframe = pd.DataFrame(data2)"
   ]
  },
  {
   "cell_type": "code",
   "execution_count": 30,
   "id": "3922364e",
   "metadata": {},
   "outputs": [
    {
     "data": {
      "text/html": [
       "<div>\n",
       "<style scoped>\n",
       "    .dataframe tbody tr th:only-of-type {\n",
       "        vertical-align: middle;\n",
       "    }\n",
       "\n",
       "    .dataframe tbody tr th {\n",
       "        vertical-align: top;\n",
       "    }\n",
       "\n",
       "    .dataframe thead th {\n",
       "        text-align: right;\n",
       "    }\n",
       "</style>\n",
       "<table border=\"1\" class=\"dataframe\">\n",
       "  <thead>\n",
       "    <tr style=\"text-align: right;\">\n",
       "      <th></th>\n",
       "      <th>0</th>\n",
       "    </tr>\n",
       "  </thead>\n",
       "  <tbody>\n",
       "    <tr>\n",
       "      <th>0.25</th>\n",
       "      <td>152.0</td>\n",
       "    </tr>\n",
       "    <tr>\n",
       "      <th>0.50</th>\n",
       "      <td>153.0</td>\n",
       "    </tr>\n",
       "    <tr>\n",
       "      <th>0.75</th>\n",
       "      <td>155.0</td>\n",
       "    </tr>\n",
       "  </tbody>\n",
       "</table>\n",
       "</div>"
      ],
      "text/plain": [
       "          0\n",
       "0.25  152.0\n",
       "0.50  153.0\n",
       "0.75  155.0"
      ]
     },
     "execution_count": 30,
     "metadata": {},
     "output_type": "execute_result"
    }
   ],
   "source": [
    "dframe.quantile([0.25, 0.50, 0.75])"
   ]
  },
  {
   "cell_type": "code",
   "execution_count": 33,
   "id": "29094c23",
   "metadata": {},
   "outputs": [
    {
     "data": {
      "text/html": [
       "<div>\n",
       "<style scoped>\n",
       "    .dataframe tbody tr th:only-of-type {\n",
       "        vertical-align: middle;\n",
       "    }\n",
       "\n",
       "    .dataframe tbody tr th {\n",
       "        vertical-align: top;\n",
       "    }\n",
       "\n",
       "    .dataframe thead th {\n",
       "        text-align: right;\n",
       "    }\n",
       "</style>\n",
       "<table border=\"1\" class=\"dataframe\">\n",
       "  <thead>\n",
       "    <tr style=\"text-align: right;\">\n",
       "      <th></th>\n",
       "      <th>0</th>\n",
       "    </tr>\n",
       "  </thead>\n",
       "  <tbody>\n",
       "    <tr>\n",
       "      <th>count</th>\n",
       "      <td>9.000000</td>\n",
       "    </tr>\n",
       "    <tr>\n",
       "      <th>mean</th>\n",
       "      <td>153.000000</td>\n",
       "    </tr>\n",
       "    <tr>\n",
       "      <th>std</th>\n",
       "      <td>1.870829</td>\n",
       "    </tr>\n",
       "    <tr>\n",
       "      <th>min</th>\n",
       "      <td>150.000000</td>\n",
       "    </tr>\n",
       "    <tr>\n",
       "      <th>25%</th>\n",
       "      <td>152.000000</td>\n",
       "    </tr>\n",
       "    <tr>\n",
       "      <th>50%</th>\n",
       "      <td>153.000000</td>\n",
       "    </tr>\n",
       "    <tr>\n",
       "      <th>75%</th>\n",
       "      <td>155.000000</td>\n",
       "    </tr>\n",
       "    <tr>\n",
       "      <th>max</th>\n",
       "      <td>155.000000</td>\n",
       "    </tr>\n",
       "  </tbody>\n",
       "</table>\n",
       "</div>"
      ],
      "text/plain": [
       "                0\n",
       "count    9.000000\n",
       "mean   153.000000\n",
       "std      1.870829\n",
       "min    150.000000\n",
       "25%    152.000000\n",
       "50%    153.000000\n",
       "75%    155.000000\n",
       "max    155.000000"
      ]
     },
     "execution_count": 33,
     "metadata": {},
     "output_type": "execute_result"
    }
   ],
   "source": [
    "dframe.describe()"
   ]
  },
  {
   "cell_type": "markdown",
   "id": "33aac6d4",
   "metadata": {},
   "source": [
    "## Dispersion Measures"
   ]
  },
  {
   "attachments": {
    "varian%20and%20stand.png": {
     "image/png": "[encoded data removed]"
    }
   },
   "cell_type": "markdown",
   "id": "a7752f2d",
   "metadata": {},
   "source": [
    "![varian%20and%20stand.png](attachment:varian%20and%20stand.png)"
   ]
  },
  {
   "cell_type": "code",
   "execution_count": 34,
   "id": "5f5c905f",
   "metadata": {},
   "outputs": [],
   "source": [
    "base = np.array([150, 151, 152, 152, 153, 154, 155, 155, 155])"
   ]
  },
  {
   "cell_type": "markdown",
   "id": "06183631",
   "metadata": {},
   "source": [
    "Variance\n",
    "- The greater the variance, more the elements are varying from the mean."
   ]
  },
  {
   "cell_type": "code",
   "execution_count": 35,
   "id": "8289309b",
   "metadata": {},
   "outputs": [
    {
     "data": {
      "text/plain": [
       "3.111111111111111"
      ]
     },
     "execution_count": 35,
     "metadata": {},
     "output_type": "execute_result"
    }
   ],
   "source": [
    "np.var(base)"
   ]
  },
  {
   "cell_type": "code",
   "execution_count": 36,
   "id": "e69bf290",
   "metadata": {},
   "outputs": [
    {
     "data": {
      "text/plain": [
       "3"
      ]
     },
     "execution_count": 36,
     "metadata": {},
     "output_type": "execute_result"
    }
   ],
   "source": [
    "statistics.variance(base)"
   ]
  },
  {
   "cell_type": "code",
   "execution_count": 37,
   "id": "e247ebd7",
   "metadata": {},
   "outputs": [
    {
     "data": {
      "text/plain": [
       "3.111111111111111"
      ]
     },
     "execution_count": 37,
     "metadata": {},
     "output_type": "execute_result"
    }
   ],
   "source": [
    "from scipy import ndimage\n",
    "ndimage.variance(base)"
   ]
  },
  {
   "cell_type": "markdown",
   "id": "890f5175",
   "metadata": {},
   "source": [
    "Standard deviation\n",
    "- Is the square root of the variance, how far the values ​​are from the \"expected value\"."
   ]
  },
  {
   "cell_type": "code",
   "execution_count": 38,
   "id": "717cd5c0",
   "metadata": {},
   "outputs": [
    {
     "data": {
      "text/plain": [
       "1.7638342073763937"
      ]
     },
     "execution_count": 38,
     "metadata": {},
     "output_type": "execute_result"
    }
   ],
   "source": [
    "np.std(base)"
   ]
  },
  {
   "cell_type": "code",
   "execution_count": 39,
   "id": "15563d2f",
   "metadata": {},
   "outputs": [
    {
     "data": {
      "text/plain": [
       "1.7320508075688772"
      ]
     },
     "execution_count": 39,
     "metadata": {},
     "output_type": "execute_result"
    }
   ],
   "source": [
    "statistics.stdev(base)"
   ]
  },
  {
   "attachments": {
    "cv1.webp": {
     "image/webp": "[encoded data removed]"
    }
   },
   "cell_type": "markdown",
   "id": "ebdfdc09",
   "metadata": {},
   "source": [
    "Coefficient of variation, is the standard deviation devided by the mean.\n",
    "![cv1.webp](attachment:cv1.webp)"
   ]
  },
  {
   "cell_type": "code",
   "execution_count": 40,
   "id": "1190577d",
   "metadata": {},
   "outputs": [
    {
     "data": {
      "text/plain": [
       "1.1528328152786886"
      ]
     },
     "execution_count": 40,
     "metadata": {},
     "output_type": "execute_result"
    }
   ],
   "source": [
    "cv = np.std(base) / np.mean(base) * 100\n",
    "cv"
   ]
  },
  {
   "cell_type": "code",
   "execution_count": 41,
   "id": "668c79c2",
   "metadata": {},
   "outputs": [
    {
     "data": {
      "text/plain": [
       "1.1528328152786886"
      ]
     },
     "execution_count": 41,
     "metadata": {},
     "output_type": "execute_result"
    }
   ],
   "source": [
    "#with scipy\n",
    "\n",
    "stats.variation(base) * 100"
   ]
  },
  {
   "cell_type": "markdown",
   "id": "746e587a",
   "metadata": {},
   "source": [
    "## Absolute and relative data\n",
    "- Absolute data: data that is colected from the font without any kind of manipulation (only sum or sorting).\n",
    "\n",
    "- Relative data: data that has some kind of manipulation which will help to understand and compare the data. Such as:\n",
    "porcentages, indexes, coefficients and rates."
   ]
  },
  {
   "cell_type": "markdown",
   "id": "a2d40315",
   "metadata": {},
   "source": [
    "- Indexes: ratio between two quantities, summarizes in a single number the general behavior of a variable.\n",
    "- Coefficient: ratio between the number of occurrences and the total number.\n",
    "- Rates: coefficient multiplied by a power of 10 or 100 or 1000."
   ]
  },
  {
   "cell_type": "code",
   "execution_count": 1,
   "id": "424e8fd2",
   "metadata": {},
   "outputs": [],
   "source": [
    "#Number of employees hired \n",
    "data3 = {'Job':['Database_Maneger', 'Programmer', 'Computer_Networ_Architect'],\n",
    "        'new_jersey': [97350, 82080, 112840],\n",
    "        'florida': [77140, 71540, 62310]}"
   ]
  },
  {
   "cell_type": "code",
   "execution_count": 4,
   "id": "269299f4",
   "metadata": {},
   "outputs": [],
   "source": [
    "df = pd.DataFrame(data3)"
   ]
  },
  {
   "cell_type": "code",
   "execution_count": 5,
   "id": "e27f5d27",
   "metadata": {},
   "outputs": [
    {
     "data": {
      "text/plain": [
       "pandas.core.frame.DataFrame"
      ]
     },
     "execution_count": 5,
     "metadata": {},
     "output_type": "execute_result"
    }
   ],
   "source": [
    "type(df)"
   ]
  },
  {
   "cell_type": "code",
   "execution_count": 6,
   "id": "61a950fa",
   "metadata": {},
   "outputs": [
    {
     "data": {
      "text/html": [
       "<div>\n",
       "<style scoped>\n",
       "    .dataframe tbody tr th:only-of-type {\n",
       "        vertical-align: middle;\n",
       "    }\n",
       "\n",
       "    .dataframe tbody tr th {\n",
       "        vertical-align: top;\n",
       "    }\n",
       "\n",
       "    .dataframe thead th {\n",
       "        text-align: right;\n",
       "    }\n",
       "</style>\n",
       "<table border=\"1\" class=\"dataframe\">\n",
       "  <thead>\n",
       "    <tr style=\"text-align: right;\">\n",
       "      <th></th>\n",
       "      <th>Job</th>\n",
       "      <th>new_jersey</th>\n",
       "      <th>florida</th>\n",
       "    </tr>\n",
       "  </thead>\n",
       "  <tbody>\n",
       "    <tr>\n",
       "      <th>0</th>\n",
       "      <td>Database_Maneger</td>\n",
       "      <td>97350</td>\n",
       "      <td>77140</td>\n",
       "    </tr>\n",
       "    <tr>\n",
       "      <th>1</th>\n",
       "      <td>Programmer</td>\n",
       "      <td>82080</td>\n",
       "      <td>71540</td>\n",
       "    </tr>\n",
       "    <tr>\n",
       "      <th>2</th>\n",
       "      <td>Computer_Networ_Architect</td>\n",
       "      <td>112840</td>\n",
       "      <td>62310</td>\n",
       "    </tr>\n",
       "  </tbody>\n",
       "</table>\n",
       "</div>"
      ],
      "text/plain": [
       "                         Job  new_jersey  florida\n",
       "0           Database_Maneger       97350    77140\n",
       "1                 Programmer       82080    71540\n",
       "2  Computer_Networ_Architect      112840    62310"
      ]
     },
     "execution_count": 6,
     "metadata": {},
     "output_type": "execute_result"
    }
   ],
   "source": [
    "df"
   ]
  },
  {
   "cell_type": "code",
   "execution_count": 7,
   "id": "0c095ff8",
   "metadata": {},
   "outputs": [
    {
     "data": {
      "text/plain": [
       "292270"
      ]
     },
     "execution_count": 7,
     "metadata": {},
     "output_type": "execute_result"
    }
   ],
   "source": [
    "df['new_jersey'].sum()"
   ]
  },
  {
   "cell_type": "code",
   "execution_count": 8,
   "id": "8cdedd21",
   "metadata": {},
   "outputs": [
    {
     "data": {
      "text/plain": [
       "210990"
      ]
     },
     "execution_count": 8,
     "metadata": {},
     "output_type": "execute_result"
    }
   ],
   "source": [
    "df['florida'].sum()"
   ]
  },
  {
   "cell_type": "code",
   "execution_count": 9,
   "id": "11abe686",
   "metadata": {},
   "outputs": [],
   "source": [
    "#Calculating the percentage\n",
    "\n",
    "df['%_new_jersey'] = (df['new_jersey'] / df['new_jersey'].sum()) * 100\n",
    "df['%_florida'] = (df['florida'] / df['florida'].sum()) * 100"
   ]
  },
  {
   "cell_type": "code",
   "execution_count": 10,
   "id": "2a180458",
   "metadata": {},
   "outputs": [
    {
     "data": {
      "text/html": [
       "<div>\n",
       "<style scoped>\n",
       "    .dataframe tbody tr th:only-of-type {\n",
       "        vertical-align: middle;\n",
       "    }\n",
       "\n",
       "    .dataframe tbody tr th {\n",
       "        vertical-align: top;\n",
       "    }\n",
       "\n",
       "    .dataframe thead th {\n",
       "        text-align: right;\n",
       "    }\n",
       "</style>\n",
       "<table border=\"1\" class=\"dataframe\">\n",
       "  <thead>\n",
       "    <tr style=\"text-align: right;\">\n",
       "      <th></th>\n",
       "      <th>Job</th>\n",
       "      <th>new_jersey</th>\n",
       "      <th>florida</th>\n",
       "      <th>%_new_jersey</th>\n",
       "      <th>%_florida</th>\n",
       "    </tr>\n",
       "  </thead>\n",
       "  <tbody>\n",
       "    <tr>\n",
       "      <th>0</th>\n",
       "      <td>Database_Maneger</td>\n",
       "      <td>97350</td>\n",
       "      <td>77140</td>\n",
       "      <td>33.308242</td>\n",
       "      <td>36.560974</td>\n",
       "    </tr>\n",
       "    <tr>\n",
       "      <th>1</th>\n",
       "      <td>Programmer</td>\n",
       "      <td>82080</td>\n",
       "      <td>71540</td>\n",
       "      <td>28.083621</td>\n",
       "      <td>33.906820</td>\n",
       "    </tr>\n",
       "    <tr>\n",
       "      <th>2</th>\n",
       "      <td>Computer_Networ_Architect</td>\n",
       "      <td>112840</td>\n",
       "      <td>62310</td>\n",
       "      <td>38.608136</td>\n",
       "      <td>29.532205</td>\n",
       "    </tr>\n",
       "  </tbody>\n",
       "</table>\n",
       "</div>"
      ],
      "text/plain": [
       "                         Job  new_jersey  florida  %_new_jersey  %_florida\n",
       "0           Database_Maneger       97350    77140     33.308242  36.560974\n",
       "1                 Programmer       82080    71540     28.083621  33.906820\n",
       "2  Computer_Networ_Architect      112840    62310     38.608136  29.532205"
      ]
     },
     "execution_count": 10,
     "metadata": {},
     "output_type": "execute_result"
    }
   ],
   "source": [
    "df"
   ]
  },
  {
   "cell_type": "code",
   "execution_count": 11,
   "id": "3633e160",
   "metadata": {},
   "outputs": [],
   "source": [
    "df4 = pd.DataFrame({'Gratuation year': ['1º', '2º', '3º', '4º', 'total'],\n",
    "          'March enrollment':[70, 50, 47, 23, 190],\n",
    "          'November enrollment': [65, 48, 40, 22,175]})"
   ]
  },
  {
   "cell_type": "code",
   "execution_count": 12,
   "id": "8669a038",
   "metadata": {},
   "outputs": [
    {
     "data": {
      "text/plain": [
       "pandas.core.frame.DataFrame"
      ]
     },
     "execution_count": 12,
     "metadata": {},
     "output_type": "execute_result"
    }
   ],
   "source": [
    "type(df4)"
   ]
  },
  {
   "cell_type": "code",
   "execution_count": 14,
   "id": "5060ad22",
   "metadata": {},
   "outputs": [],
   "source": [
    "df4['Dropout Rate'] = (df4['March enrollment'] - df4['November enrollment']) / df4['March enrollment'] * 100"
   ]
  },
  {
   "cell_type": "code",
   "execution_count": 15,
   "id": "0db9ecec",
   "metadata": {},
   "outputs": [
    {
     "data": {
      "text/html": [
       "<div>\n",
       "<style scoped>\n",
       "    .dataframe tbody tr th:only-of-type {\n",
       "        vertical-align: middle;\n",
       "    }\n",
       "\n",
       "    .dataframe tbody tr th {\n",
       "        vertical-align: top;\n",
       "    }\n",
       "\n",
       "    .dataframe thead th {\n",
       "        text-align: right;\n",
       "    }\n",
       "</style>\n",
       "<table border=\"1\" class=\"dataframe\">\n",
       "  <thead>\n",
       "    <tr style=\"text-align: right;\">\n",
       "      <th></th>\n",
       "      <th>Gratuation year</th>\n",
       "      <th>March enrollment</th>\n",
       "      <th>November enrollment</th>\n",
       "      <th>Dropout Rate</th>\n",
       "    </tr>\n",
       "  </thead>\n",
       "  <tbody>\n",
       "    <tr>\n",
       "      <th>0</th>\n",
       "      <td>1º</td>\n",
       "      <td>70</td>\n",
       "      <td>65</td>\n",
       "      <td>7.142857</td>\n",
       "    </tr>\n",
       "    <tr>\n",
       "      <th>1</th>\n",
       "      <td>2º</td>\n",
       "      <td>50</td>\n",
       "      <td>48</td>\n",
       "      <td>4.000000</td>\n",
       "    </tr>\n",
       "    <tr>\n",
       "      <th>2</th>\n",
       "      <td>3º</td>\n",
       "      <td>47</td>\n",
       "      <td>40</td>\n",
       "      <td>14.893617</td>\n",
       "    </tr>\n",
       "    <tr>\n",
       "      <th>3</th>\n",
       "      <td>4º</td>\n",
       "      <td>23</td>\n",
       "      <td>22</td>\n",
       "      <td>4.347826</td>\n",
       "    </tr>\n",
       "    <tr>\n",
       "      <th>4</th>\n",
       "      <td>total</td>\n",
       "      <td>190</td>\n",
       "      <td>175</td>\n",
       "      <td>7.894737</td>\n",
       "    </tr>\n",
       "  </tbody>\n",
       "</table>\n",
       "</div>"
      ],
      "text/plain": [
       "  Gratuation year  March enrollment  November enrollment  Dropout Rate\n",
       "0              1º                70                   65      7.142857\n",
       "1              2º                50                   48      4.000000\n",
       "2              3º                47                   40     14.893617\n",
       "3              4º                23                   22      4.347826\n",
       "4           total               190                  175      7.894737"
      ]
     },
     "execution_count": 15,
     "metadata": {},
     "output_type": "execute_result"
    }
   ],
   "source": [
    "df4"
   ]
  }
 ],
 "metadata": {
  "kernelspec": {
   "display_name": "Python 3 (ipykernel)",
   "language": "python",
   "name": "python3"
  },
  "language_info": {
   "codemirror_mode": {
    "name": "ipython",
    "version": 3
   },
   "file_extension": ".py",
   "mimetype": "text/x-python",
   "name": "python",
   "nbconvert_exporter": "python",
   "pygments_lexer": "ipython3",
   "version": "3.9.7"
  }
 },
 "nbformat": 4,
 "nbformat_minor": 5
}
